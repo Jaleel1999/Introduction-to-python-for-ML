{
 "cells": [
  {
   "cell_type": "code",
   "execution_count": 1,
   "id": "021e81be",
   "metadata": {},
   "outputs": [],
   "source": [
    "#Introducing Pandas data structures: Series, DataFrames and Index objects."
   ]
  },
  {
   "cell_type": "code",
   "execution_count": 4,
   "id": "82374df8",
   "metadata": {},
   "outputs": [
    {
     "name": "stdout",
     "output_type": "stream",
     "text": [
      "11       Monday\n",
      "22      Tuesday\n",
      "33    Wednesday\n",
      "dtype: object\n"
     ]
    }
   ],
   "source": [
    "#Convention for importing pandas\n",
    "import pandas as pd\n",
    "days =pd.Series(['Monday','Tuesday','Wednesday'],index=[11,22,33])\n",
    "print(days)"
   ]
  },
  {
   "cell_type": "code",
   "execution_count": null,
   "id": "2b398e3f",
   "metadata": {},
   "outputs": [],
   "source": []
  },
  {
   "cell_type": "code",
   "execution_count": null,
   "id": "c592cc47",
   "metadata": {},
   "outputs": [],
   "source": []
  }
 ],
 "metadata": {
  "kernelspec": {
   "display_name": "Python 3 (ipykernel)",
   "language": "python",
   "name": "python3"
  },
  "language_info": {
   "codemirror_mode": {
    "name": "ipython",
    "version": 3
   },
   "file_extension": ".py",
   "mimetype": "text/x-python",
   "name": "python",
   "nbconvert_exporter": "python",
   "pygments_lexer": "ipython3",
   "version": "3.9.12"
  }
 },
 "nbformat": 4,
 "nbformat_minor": 5
}
