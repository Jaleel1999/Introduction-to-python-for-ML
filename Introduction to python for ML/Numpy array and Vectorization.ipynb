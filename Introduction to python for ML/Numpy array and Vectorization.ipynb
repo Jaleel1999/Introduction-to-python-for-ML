{
 "cells": [
  {
   "cell_type": "code",
   "execution_count": 52,
   "id": "01364064",
   "metadata": {},
   "outputs": [],
   "source": [
    "#Introduction to Numpy & Creating Arrays."
   ]
  },
  {
   "cell_type": "code",
   "execution_count": 8,
   "id": "9f842ee8",
   "metadata": {},
   "outputs": [],
   "source": [
    "import numpy as np"
   ]
  },
  {
   "cell_type": "code",
   "execution_count": 2,
   "id": "64594e09",
   "metadata": {},
   "outputs": [],
   "source": [
    "arr = [6,7,8,9] "
   ]
  },
  {
   "cell_type": "code",
   "execution_count": 3,
   "id": "d8ed64e6",
   "metadata": {},
   "outputs": [
    {
     "name": "stdout",
     "output_type": "stream",
     "text": [
      "<class 'list'>\n"
     ]
    }
   ],
   "source": [
    "print(type(arr))"
   ]
  },
  {
   "cell_type": "code",
   "execution_count": 4,
   "id": "bf893ccb",
   "metadata": {},
   "outputs": [],
   "source": [
    "a = np.array(arr)"
   ]
  },
  {
   "cell_type": "code",
   "execution_count": 6,
   "id": "f7acf484",
   "metadata": {},
   "outputs": [
    {
     "name": "stdout",
     "output_type": "stream",
     "text": [
      "<class 'numpy.ndarray'>\n"
     ]
    }
   ],
   "source": [
    "print(type(a))"
   ]
  },
  {
   "cell_type": "code",
   "execution_count": 7,
   "id": "a5dee3e5",
   "metadata": {},
   "outputs": [
    {
     "name": "stdout",
     "output_type": "stream",
     "text": [
      "(4,)\n",
      "int32\n",
      "1\n"
     ]
    }
   ],
   "source": [
    "print(a.shape)\n",
    "print(a.dtype)\n",
    "print(a.ndim)"
   ]
  },
  {
   "cell_type": "code",
   "execution_count": 33,
   "id": "3ec713dc",
   "metadata": {},
   "outputs": [
    {
     "name": "stdout",
     "output_type": "stream",
     "text": [
      "[[1 2 3]\n",
      " [4 5 6]]\n",
      "2\n"
     ]
    },
    {
     "data": {
      "text/plain": [
       "(2, 3)"
      ]
     },
     "execution_count": 33,
     "metadata": {},
     "output_type": "execute_result"
    }
   ],
   "source": [
    "b = np.array([[1,2,3],[4,5,6]])\n",
    "print(b)\n",
    "print(b.ndim)\n",
    "b.shape"
   ]
  },
  {
   "cell_type": "code",
   "execution_count": null,
   "id": "7bc81e5b",
   "metadata": {},
   "outputs": [],
   "source": [
    "#In-built functions."
   ]
  },
  {
   "cell_type": "code",
   "execution_count": 34,
   "id": "1862758b",
   "metadata": {},
   "outputs": [
    {
     "data": {
      "text/plain": [
       "array([[0.70280629, 0.10496724, 0.42562521],\n",
       "       [0.27937122, 0.97064994, 0.33979711]])"
      ]
     },
     "execution_count": 34,
     "metadata": {},
     "output_type": "execute_result"
    }
   ],
   "source": [
    "np.random.random((2,3))"
   ]
  },
  {
   "cell_type": "code",
   "execution_count": 35,
   "id": "2609a5b3",
   "metadata": {},
   "outputs": [
    {
     "data": {
      "text/plain": [
       "array([[1., 0., 0.],\n",
       "       [0., 1., 0.],\n",
       "       [0., 0., 1.]])"
      ]
     },
     "execution_count": 35,
     "metadata": {},
     "output_type": "execute_result"
    }
   ],
   "source": [
    "np.zeros((2,3))"
   ]
  },
  {
   "cell_type": "code",
   "execution_count": 36,
   "id": "a3931244",
   "metadata": {},
   "outputs": [
    {
     "data": {
      "text/plain": [
       "array([[1., 1., 1.],\n",
       "       [1., 1., 1.]])"
      ]
     },
     "execution_count": 36,
     "metadata": {},
     "output_type": "execute_result"
    }
   ],
   "source": [
    "np.ones((2,3))"
   ]
  },
  {
   "cell_type": "code",
   "execution_count": 37,
   "id": "b49d5448",
   "metadata": {},
   "outputs": [
    {
     "data": {
      "text/plain": [
       "array([[1., 0., 0.],\n",
       "       [0., 1., 0.],\n",
       "       [0., 0., 1.]])"
      ]
     },
     "execution_count": 37,
     "metadata": {},
     "output_type": "execute_result"
    }
   ],
   "source": [
    "np.identity(3)"
   ]
  },
  {
   "cell_type": "code",
   "execution_count": 31,
   "id": "6bb57878",
   "metadata": {},
   "outputs": [],
   "source": [
    "#Intra-operability of Arrays and Scalars."
   ]
  },
  {
   "cell_type": "code",
   "execution_count": 12,
   "id": "49ddf34f",
   "metadata": {},
   "outputs": [
    {
     "data": {
      "text/plain": [
       "array([[13., 13., 13.],\n",
       "       [10., 10., 10.]])"
      ]
     },
     "execution_count": 12,
     "metadata": {},
     "output_type": "execute_result"
    }
   ],
   "source": [
    "c = np.array([[9.0,8.0,7.0],[1.0,2.0,3.0]])\n",
    "d = np.array([[4.0,5.0,6.0],[9.0,8.0,7.0]])\n",
    "\n",
    "c+d\n"
   ]
  },
  {
   "cell_type": "code",
   "execution_count": 13,
   "id": "6ad57fa4",
   "metadata": {},
   "outputs": [
    {
     "data": {
      "text/plain": [
       "array([[36., 40., 42.],\n",
       "       [ 9., 16., 21.]])"
      ]
     },
     "execution_count": 13,
     "metadata": {},
     "output_type": "execute_result"
    }
   ],
   "source": [
    "\n",
    "c*d"
   ]
  },
  {
   "cell_type": "code",
   "execution_count": 14,
   "id": "24234d94",
   "metadata": {},
   "outputs": [
    {
     "data": {
      "text/plain": [
       "array([[1.25      , 1.        , 0.83333333],\n",
       "       [0.55555556, 0.625     , 0.71428571]])"
      ]
     },
     "execution_count": 14,
     "metadata": {},
     "output_type": "execute_result"
    }
   ],
   "source": [
    "5/d"
   ]
  },
  {
   "cell_type": "code",
   "execution_count": 15,
   "id": "0f5952ca",
   "metadata": {},
   "outputs": [
    {
     "data": {
      "text/plain": [
       "array([[81., 64., 49.],\n",
       "       [ 1.,  4.,  9.]])"
      ]
     },
     "execution_count": 15,
     "metadata": {},
     "output_type": "execute_result"
    }
   ],
   "source": [
    "c**2"
   ]
  },
  {
   "cell_type": "code",
   "execution_count": null,
   "id": "82e922b1",
   "metadata": {},
   "outputs": [],
   "source": [
    "#Indexing with arrays & using arrays for preprocessing."
   ]
  },
  {
   "cell_type": "code",
   "execution_count": 18,
   "id": "7cb80524",
   "metadata": {},
   "outputs": [
    {
     "data": {
      "text/plain": [
       "6"
      ]
     },
     "execution_count": 18,
     "metadata": {},
     "output_type": "execute_result"
    }
   ],
   "source": [
    "a[0]"
   ]
  },
  {
   "cell_type": "code",
   "execution_count": 19,
   "id": "60c7db9e",
   "metadata": {},
   "outputs": [
    {
     "data": {
      "text/plain": [
       "0"
      ]
     },
     "execution_count": 19,
     "metadata": {},
     "output_type": "execute_result"
    }
   ],
   "source": [
    "a[3]"
   ]
  },
  {
   "cell_type": "code",
   "execution_count": 20,
   "id": "cd6bc795",
   "metadata": {},
   "outputs": [
    {
     "data": {
      "text/plain": [
       "1"
      ]
     },
     "execution_count": 20,
     "metadata": {},
     "output_type": "execute_result"
    }
   ],
   "source": [
    "b[0,0]"
   ]
  },
  {
   "cell_type": "code",
   "execution_count": 21,
   "id": "97612f11",
   "metadata": {},
   "outputs": [
    {
     "data": {
      "text/plain": [
       "6"
      ]
     },
     "execution_count": 21,
     "metadata": {},
     "output_type": "execute_result"
    }
   ],
   "source": [
    "b[1,2]"
   ]
  },
  {
   "cell_type": "code",
   "execution_count": 22,
   "id": "ddc25c0f",
   "metadata": {},
   "outputs": [
    {
     "data": {
      "text/plain": [
       "8.0"
      ]
     },
     "execution_count": 22,
     "metadata": {},
     "output_type": "execute_result"
    }
   ],
   "source": [
    "c[0,1]"
   ]
  },
  {
   "cell_type": "code",
   "execution_count": 23,
   "id": "7451075c",
   "metadata": {},
   "outputs": [
    {
     "data": {
      "text/plain": [
       "array([9., 8.])"
      ]
     },
     "execution_count": 23,
     "metadata": {},
     "output_type": "execute_result"
    }
   ],
   "source": [
    "d[1,0:2]"
   ]
  },
  {
   "cell_type": "code",
   "execution_count": 25,
   "id": "0cd4d17e",
   "metadata": {},
   "outputs": [],
   "source": [
    "e = np.array([[10,11,12],[13,14,15],\n",
    "             [16,17,18],[19,20,21]])"
   ]
  },
  {
   "cell_type": "code",
   "execution_count": 28,
   "id": "ba9dc09d",
   "metadata": {},
   "outputs": [
    {
     "data": {
      "text/plain": [
       "array([[10, 11],\n",
       "       [13, 14],\n",
       "       [16, 17]])"
      ]
     },
     "execution_count": 28,
     "metadata": {},
     "output_type": "execute_result"
    }
   ],
   "source": [
    "#Slicing\n",
    "e[:3,:2] "
   ]
  },
  {
   "cell_type": "code",
   "execution_count": 38,
   "id": "273423d5",
   "metadata": {},
   "outputs": [],
   "source": [
    "#Integer indexing"
   ]
  },
  {
   "cell_type": "code",
   "execution_count": 39,
   "id": "d0bb138e",
   "metadata": {},
   "outputs": [
    {
     "data": {
      "text/plain": [
       "array([18, 11, 19, 15])"
      ]
     },
     "execution_count": 39,
     "metadata": {},
     "output_type": "execute_result"
    }
   ],
   "source": [
    "e[[2,0,3,1],[2,1,0,2]]"
   ]
  },
  {
   "cell_type": "code",
   "execution_count": 40,
   "id": "48bd71be",
   "metadata": {},
   "outputs": [],
   "source": [
    "#boolean indexing meeting specified condition"
   ]
  },
  {
   "cell_type": "code",
   "execution_count": 41,
   "id": "2c13e407",
   "metadata": {},
   "outputs": [
    {
     "data": {
      "text/plain": [
       "array([16, 17, 18, 19, 20, 21])"
      ]
     },
     "execution_count": 41,
     "metadata": {},
     "output_type": "execute_result"
    }
   ],
   "source": [
    "e[e>15]"
   ]
  },
  {
   "cell_type": "code",
   "execution_count": null,
   "id": "09faf686",
   "metadata": {},
   "outputs": [],
   "source": [
    "#Extra code(In-built mathematical functions)."
   ]
  },
  {
   "cell_type": "code",
   "execution_count": 42,
   "id": "a328ca30",
   "metadata": {},
   "outputs": [
    {
     "data": {
      "text/plain": [
       "186"
      ]
     },
     "execution_count": 42,
     "metadata": {},
     "output_type": "execute_result"
    }
   ],
   "source": [
    "#sum of all the elements of array.\n",
    "e.sum()"
   ]
  },
  {
   "cell_type": "code",
   "execution_count": 43,
   "id": "2b26bc30",
   "metadata": {},
   "outputs": [
    {
     "data": {
      "text/plain": [
       "15.5"
      ]
     },
     "execution_count": 43,
     "metadata": {},
     "output_type": "execute_result"
    }
   ],
   "source": [
    "#Mean of array.\n",
    "e.mean()"
   ]
  },
  {
   "cell_type": "code",
   "execution_count": 44,
   "id": "3a0e77c8",
   "metadata": {},
   "outputs": [
    {
     "data": {
      "text/plain": [
       "10"
      ]
     },
     "execution_count": 44,
     "metadata": {},
     "output_type": "execute_result"
    }
   ],
   "source": [
    "#Minimum Value in arrays.\n",
    "e.min()"
   ]
  },
  {
   "cell_type": "code",
   "execution_count": 45,
   "id": "51429cbd",
   "metadata": {},
   "outputs": [
    {
     "data": {
      "text/plain": [
       "3.452052529534663"
      ]
     },
     "execution_count": 45,
     "metadata": {},
     "output_type": "execute_result"
    }
   ],
   "source": [
    "#Standard Deviation of arrays.\n",
    "e.std()"
   ]
  },
  {
   "cell_type": "code",
   "execution_count": 46,
   "id": "c00aa851",
   "metadata": {},
   "outputs": [
    {
     "data": {
      "text/plain": [
       "11.916666666666666"
      ]
     },
     "execution_count": 46,
     "metadata": {},
     "output_type": "execute_result"
    }
   ],
   "source": [
    "#Variance of arrays.\n",
    "e.var()"
   ]
  },
  {
   "cell_type": "code",
   "execution_count": null,
   "id": "2d766b29",
   "metadata": {},
   "outputs": [],
   "source": []
  }
 ],
 "metadata": {
  "kernelspec": {
   "display_name": "Python 3 (ipykernel)",
   "language": "python",
   "name": "python3"
  },
  "language_info": {
   "codemirror_mode": {
    "name": "ipython",
    "version": 3
   },
   "file_extension": ".py",
   "mimetype": "text/x-python",
   "name": "python",
   "nbconvert_exporter": "python",
   "pygments_lexer": "ipython3",
   "version": "3.9.12"
  }
 },
 "nbformat": 4,
 "nbformat_minor": 5
}
